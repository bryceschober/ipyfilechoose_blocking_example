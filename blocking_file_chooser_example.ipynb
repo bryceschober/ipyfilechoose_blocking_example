{
 "metadata": {
  "language_info": {
   "codemirror_mode": {
    "name": "ipython",
    "version": 3
   },
   "file_extension": ".py",
   "mimetype": "text/x-python",
   "name": "python",
   "nbconvert_exporter": "python",
   "pygments_lexer": "ipython3",
   "version": "3.8.5-final"
  },
  "orig_nbformat": 2,
  "kernelspec": {
   "name": "python3",
   "display_name": "Python 3",
   "language": "python"
  }
 },
 "nbformat": 4,
 "nbformat_minor": 2,
 "cells": [
  {
   "cell_type": "code",
   "execution_count": null,
   "metadata": {},
   "outputs": [],
   "source": [
    "%pip install ipython_blocking ipyfilechooser"
   ]
  },
  {
   "cell_type": "code",
   "execution_count": 1,
   "metadata": {},
   "outputs": [
    {
     "output_type": "display_data",
     "data": {
      "text/plain": "FileChooser(path='C:\\Users\\RnB Schober', filename='', title='HTML(value='', layout=Layout(display='none'))', s…",
      "application/vnd.jupyter.widget-view+json": {
       "version_major": 2,
       "version_minor": 0,
       "model_id": "2020fe7dd1c6407cb6b0e944d2ba8bac"
      }
     },
     "metadata": {}
    }
   ],
   "source": [
    "import ipython_blocking\n",
    "from ipyfilechooser import FileChooser\n",
    "from pathlib import Path\n",
    "\n",
    "# Create and display a FileChooser widget\n",
    "fc = FileChooser(str(Path.home().resolve()), use_dir_icons=True)\n",
    "def path_is_selected():\n",
    "    return bool(fc.selected)\n",
    "display(fc)"
   ]
  },
  {
   "cell_type": "code",
   "execution_count": 2,
   "metadata": {},
   "outputs": [],
   "source": [
    "# Wait for user selection\n",
    "%block path_is_selected"
   ]
  },
  {
   "cell_type": "code",
   "execution_count": 3,
   "metadata": {},
   "outputs": [
    {
     "output_type": "stream",
     "name": "stdout",
     "text": [
      "None\nNone\nNone\n"
     ]
    }
   ],
   "source": [
    "# Print the selected path, filename, or both\n",
    "print(fc.selected_path)\n",
    "print(fc.selected_filename)\n",
    "print(fc.selected)"
   ]
  }
 ]
}